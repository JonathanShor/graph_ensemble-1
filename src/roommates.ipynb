{
 "metadata": {
  "name": "",
  "signature": "sha256:93e129022c25268549f26bccb422056fa50d0414074f5a999966d86e10c0d348"
 },
 "nbformat": 3,
 "nbformat_minor": 0,
 "worksheets": [
  {
   "cells": [
    {
     "cell_type": "heading",
     "level": 1,
     "metadata": {},
     "source": [
      "Cleaning and Exploratory Analysis of Roommates Data"
     ]
    },
    {
     "cell_type": "code",
     "collapsed": false,
     "input": [
      "from __future__ import division\n",
      "\n",
      "import numpy as np\n",
      "import pandas as pd\n",
      "import sys\n",
      "\n",
      "from IPython.display import display\n",
      "from scipy.sparse import lil_matrix"
     ],
     "language": "python",
     "metadata": {},
     "outputs": [],
     "prompt_number": 1
    },
    {
     "cell_type": "code",
     "collapsed": false,
     "input": [
      "surveyXl = pd.ExcelFile(\"../data/StarRez Profiles.xlsx\")\n",
      "surveyDf = surveyXl.parse(\"StarRez Profiles\")"
     ],
     "language": "python",
     "metadata": {},
     "outputs": [],
     "prompt_number": 2
    },
    {
     "cell_type": "markdown",
     "metadata": {},
     "source": [
      "Remove the tilde-prefixed rows (old questions), which we cannot rely to be present for all users. Further, the same information is replicated across both sets, so we are safe to only take the non-tilde set."
     ]
    },
    {
     "cell_type": "code",
     "collapsed": false,
     "input": [
      "nonTildeIdxs     = surveyDf[\"Profile Type Description 1\"].map(lambda s: s[0] != '~')\n",
      "nonTildeDf       = surveyDf[nonTildeIdxs]\n",
      "entryIdGrp       = nonTildeDf.groupby(\"Entry ID\")\n",
      "profileItemIdGrp = nonTildeDf.groupby(\"Profile Item ID\")\n",
      "\n",
      "flatEntryIds     = sorted(entryIdGrp.groups.keys())\n",
      "flatFeatureIds   = sorted(profileItemIdGrp.groups.keys())\n",
      "\n",
      "entryIdsInvidx   = dict((v, i) for i, v in enumerate(flatEntryIds))\n",
      "featureIdsInvidx = dict((v, i) for i, v in enumerate(flatFeatureIds))\n",
      "\n",
      "nonTildeDf[\"flatFeatureId\"] = nonTildeDf[\"Profile Item ID\"].map(featureIdsInvidx)\n",
      "\n",
      "# TODO: To think about how to use year information _stationarily_.\n",
      "# Also related to feature 88, the sophomore housing. Hmm...\n",
      "\n",
      "M = len(flatEntryIds)   # people\n",
      "N = len(flatFeatureIds) # features"
     ],
     "language": "python",
     "metadata": {},
     "outputs": [
      {
       "output_type": "stream",
       "stream": "stderr",
       "text": [
        "-c:12: SettingWithCopyWarning: \n",
        "A value is trying to be set on a copy of a slice from a DataFrame.\n",
        "Try using .loc[row_indexer,col_indexer] = value instead\n",
        "\n",
        "See the the caveats in the documentation: http://pandas.pydata.org/pandas-docs/stable/indexing.html#indexing-view-versus-copy\n"
       ]
      }
     ],
     "prompt_number": 3
    },
    {
     "cell_type": "heading",
     "level": 1,
     "metadata": {},
     "source": [
      "Print Feature Descriptions and Summaries"
     ]
    },
    {
     "cell_type": "markdown",
     "metadata": {},
     "source": [
      "Compute summary statistics of features. (Note that several are binary and have small counts.)"
     ]
    },
    {
     "cell_type": "code",
     "collapsed": false,
     "input": [
      "featureSummary = nonTildeDf.groupby(\"flatFeatureId\").describe()[\"Profile Weight\"]\n",
      "featureSummary = featureSummary.unstack()\n",
      "featureSummary[\"range\"] = featureSummary[\"max\"] - featureSummary[\"min\"]\n",
      "#featureSummary"
     ],
     "language": "python",
     "metadata": {},
     "outputs": [],
     "prompt_number": 4
    },
    {
     "cell_type": "code",
     "collapsed": false,
     "input": [
      "featureDescription = profileItemIdGrp[[\"Profile Item ID\", \"Profile Item Description\"]].head(1).sort(\"Profile Item ID\")\n",
      "featureDescription[\"flatFeatureId\"] = featureDescription[\"Profile Item ID\"].map(featureIdsInvidx)\n",
      "featureDescription[\"matlabFeatureId\"] = featureDescription[\"flatFeatureId\"] + 1\n",
      "\n",
      "featureDescription.set_index(\"flatFeatureId\", inplace=True)\n",
      "\n",
      "featureDescription = pd.merge(featureDescription, featureSummary, left_index=True, right_index=True)\n",
      "#featureDescription"
     ],
     "language": "python",
     "metadata": {},
     "outputs": [],
     "prompt_number": 5
    },
    {
     "cell_type": "code",
     "collapsed": false,
     "input": [
      "featureSummary.to_csv(\"../data/SurveyWeightSummary.csv\")\n",
      "featureDescription.to_csv(\"../data/SurveyFeatureDescription.csv\")"
     ],
     "language": "python",
     "metadata": {},
     "outputs": [],
     "prompt_number": 6
    },
    {
     "cell_type": "markdown",
     "metadata": {},
     "source": [
      "Output a compact text file of _individual_ answers to survey questions. Since the true ranges are [1, 5] (or [1] for Brownstone), 0 signifies that the answer does not exist (NA, NaN)."
     ]
    },
    {
     "cell_type": "code",
     "collapsed": false,
     "input": [
      "Xsp = lil_matrix((M, N), dtype=int)\n",
      "\n",
      "for m, eid in enumerate(flatEntryIds):    \n",
      "    df = entryIdGrp.get_group(eid)    \n",
      "    \n",
      "    featureIdxs = df[\"Profile Item ID\"].map(featureIdsInvidx)\n",
      "    vals        = df[\"Profile Weight\"]\n",
      "    Xsp[m, featureIdxs] = vals\n",
      "    \n",
      "# These are integers, so no need for fmt='%.18e'\n",
      "np.savetxt(\"../data/SurveyData.txt\", Xsp.todense(), fmt='%d')"
     ],
     "language": "python",
     "metadata": {},
     "outputs": [],
     "prompt_number": 7
    },
    {
     "cell_type": "heading",
     "level": 1,
     "metadata": {},
     "source": [
      "Import the Matching Observations"
     ]
    },
    {
     "cell_type": "code",
     "collapsed": false,
     "input": [
      "matchFiles = ['../data/Fall 2010 Assigned Rooms - 091510.xlsx', '../data/Fall 2011 Assigned Rooms - 091511.xlsx', '../data/Fall 2012 Assigned Rooms - 091512.xlsx']\n",
      "saveFiles  = ['../data/2010Match.txt', '../data/2011Match.txt', '../data/2012Match.txt']\n",
      "dormFiles  = ['../data/2010Dorms.csv', '../data/2011Dorms.csv', '../data/2012Dorms.csv']\n",
      "dormSummaryFiles = ['../data/2010DormSummary.csv', '../data/2011DormSummary.csv', '../data/2012DormSummary.csv']\n",
      "populationFiles = ['../data/2010Population.txt', '../data/2011Population.txt', '../data/2012Population.txt' ]"
     ],
     "language": "python",
     "metadata": {},
     "outputs": [],
     "prompt_number": 8
    },
    {
     "cell_type": "heading",
     "level": 1,
     "metadata": {},
     "source": [
      "Write Dorm Assignments and Summary Statistics"
     ]
    },
    {
     "cell_type": "code",
     "collapsed": false,
     "input": [
      "def extractDorms(filename):\n",
      "    \"Return a Series of STRING values of dorms, indexed by flat student ID.\"\n",
      "    df = pd.ExcelFile(filename).parse('Master List')\n",
      "    df[\"ID\"] = df[\"ID\"].map(entryIdsInvidx)\n",
      "    df.set_index(\"ID\", inplace=True, verify_integrity=True)\n",
      "\n",
      "    df.sort(axis=0, inplace=True)\n",
      "\n",
      "    room_label = df.columns[3]\n",
      "    # Same index as df.\n",
      "    return df[room_label].map(lambda x: x.split()[0])\n",
      "\n",
      "dormLists = map(extractDorms, matchFiles)\n"
     ],
     "language": "python",
     "metadata": {},
     "outputs": [],
     "prompt_number": 21
    },
    {
     "cell_type": "markdown",
     "metadata": {},
     "source": [
      "Convert dorm series to categorical variables."
     ]
    },
    {
     "cell_type": "code",
     "collapsed": false,
     "input": [
      "allDorms = pd.concat(dormLists).unique()\n",
      "# sorting is just for display convenience -- actual order doesn't matter.\n",
      "allDorms.sort()\n",
      "\n",
      "def codify(s):\n",
      "    idx  = s.index\n",
      "    cats = pd.Categorical(s, categories=allDorms, ordered=False).codes\n",
      "    return pd.Series(cats, index=idx, dtype=int)\n",
      "\n",
      "codeDormList = map(codify, dormLists)"
     ],
     "language": "python",
     "metadata": {},
     "outputs": [],
     "prompt_number": 22
    },
    {
     "cell_type": "markdown",
     "metadata": {},
     "source": [
      "Convert categorical dorm series to one-hot encoding (dummies), and then value and summaries to csv."
     ]
    },
    {
     "cell_type": "code",
     "collapsed": false,
     "input": [
      "for cdl, outFile, summaryFile in zip(codeDormList, dormFiles, dormSummaryFiles):\n",
      "    cdl.to_csv(outFile)\n",
      "    cdl.describe().to_csv(summaryFile)\n",
      "\n",
      "codeDormAll = pd.concat(codeDormList)\n",
      "codeDormAll = codeDormAll.sort_index()\n",
      "\n",
      "codeDormAll.to_csv('../data/AllDorms.csv')\n",
      "codeDormAll.describe().to_csv('../data/AllDormSummary.csv')"
     ],
     "language": "python",
     "metadata": {},
     "outputs": [],
     "prompt_number": 23
    },
    {
     "cell_type": "heading",
     "level": 2,
     "metadata": {},
     "source": [
      "Write Matches"
     ]
    },
    {
     "cell_type": "code",
     "collapsed": false,
     "input": [
      "# Remove the -1 and -2 suffixes, which denote the 1st or 2nd roommate in a room.\n",
      "def stripRoomSuffix(s):\n",
      "    return s.replace('-1', '').replace('-2', '')\n",
      "\n",
      "def parseAssignment(filename):\n",
      "    matchXl = pd.ExcelFile(filename)\n",
      "    matchDf = matchXl.parse('Master List')\n",
      "    \n",
      "    # Convert their messy IDs to our flat user IDs (corresponds to ROW of SurveyData.txt)\n",
      "    matchDf[\"ID\"] = matchDf[\"ID\"].map(entryIdsInvidx)\n",
      "    population = matchDf[\"ID\"].unique()\n",
      "    population.sort()\n",
      "    \n",
      "    roomLabel = matchDf.columns[4]\n",
      "    matchDf[roomLabel] = matchDf[roomLabel].map(stripRoomSuffix)\n",
      "    \n",
      "    roomGrp = matchDf.groupby(roomLabel)\n",
      "    \n",
      "    pairs = [ df[\"ID\"].tolist() for _, df in roomGrp if len(df) == 2 ]\n",
      "        \n",
      "    return (population, pairs)\n",
      "    \n"
     ],
     "language": "python",
     "metadata": {},
     "outputs": [],
     "prompt_number": 12
    },
    {
     "cell_type": "code",
     "collapsed": false,
     "input": [
      "for i in xrange(3):\n",
      "    population, pairs = parseAssignment(matchFiles[i])\n",
      "    X = np.array(pairs, dtype=int)\n",
      "    np.savetxt(saveFiles[i], X, fmt='%d')\n",
      "    np.savetxt(populationFiles[i], population, fmt='%d')"
     ],
     "language": "python",
     "metadata": {},
     "outputs": [],
     "prompt_number": 13
    },
    {
     "cell_type": "markdown",
     "metadata": {},
     "source": [
      "I also ran `display(max(roomGrp['ID'].count()))` and `display(min(roomGrp['ID'].count()))` and confirmed that min = 1, max = 2. There are no empty rooms, and there are no empty "
     ]
    },
    {
     "cell_type": "heading",
     "level": 1,
     "metadata": {},
     "source": [
      "Save the flat -> obfuscated ID maps"
     ]
    },
    {
     "cell_type": "markdown",
     "metadata": {},
     "source": [
      "Note that flatFeatureIds[i] is an entry in \"Profile Item ID\""
     ]
    },
    {
     "cell_type": "code",
     "collapsed": false,
     "input": [
      "np.savetxt('../data/flatEntryIds.txt', np.array(flatEntryIds, dtype=int), fmt='%d')\n",
      "np.savetxt('../data/flatFeatureIds.txt', np.array(flatFeatureIds, dtype=int), fmt='%d')\n"
     ],
     "language": "python",
     "metadata": {},
     "outputs": [],
     "prompt_number": 14
    }
   ],
   "metadata": {}
  }
 ]
}