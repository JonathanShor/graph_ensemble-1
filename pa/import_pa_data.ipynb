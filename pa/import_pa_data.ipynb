{
 "cells": [
  {
   "cell_type": "code",
   "execution_count": 1,
   "metadata": {
    "collapsed": true
   },
   "outputs": [],
   "source": [
    "from allensdk.core.brain_observatory_cache import BrainObservatoryCache\n",
    "import pprint\n",
    "\n",
    "# This class uses a 'manifest' to keep track of downloaded data and metadata.  \n",
    "# All downloaded files will be stored relative to the directory holding the manifest\n",
    "# file.  If 'manifest_file' is a relative path (as it is below), it will be \n",
    "# saved relative to your working directory.  It can also be an absolute path.\n",
    "boc = BrainObservatoryCache(manifest_file='boc/manifest.json')"
   ]
  },
  {
   "cell_type": "code",
   "execution_count": 2,
   "metadata": {
    "collapsed": false
   },
   "outputs": [
    {
     "name": "stdout",
     "output_type": "stream",
     "text": [
      "all targeted structures: [u'VISal', u'VISl', u'VISp', u'VISpm']\n"
     ]
    }
   ],
   "source": [
    "# Download a list of all targeted areas\n",
    "targeted_structures = boc.get_all_targeted_structures()\n",
    "print(\"all targeted structures: \" + str(targeted_structures))"
   ]
  },
  {
   "cell_type": "code",
   "execution_count": 3,
   "metadata": {
    "collapsed": false
   },
   "outputs": [
    {
     "name": "stdout",
     "output_type": "stream",
     "text": [
      "all VISp experiment containers: 25\n"
     ]
    }
   ],
   "source": [
    "# Download experiment containers for VISp experiments\n",
    "visp_ecs = boc.get_experiment_containers(targeted_structures=['VISp'])\n",
    "print(\"all VISp experiment containers: %d\" % len(visp_ecs))"
   ]
  },
  {
   "cell_type": "code",
   "execution_count": 4,
   "metadata": {
    "collapsed": false
   },
   "outputs": [
    {
     "name": "stdout",
     "output_type": "stream",
     "text": [
      "all imaging depths: [175, 275, 350, 375]\n"
     ]
    }
   ],
   "source": [
    "# Download a list of all imaging depths\n",
    "depths = boc.get_all_imaging_depths()\n",
    "print(\"all imaging depths: \" + str(depths))"
   ]
  },
  {
   "cell_type": "code",
   "execution_count": 5,
   "metadata": {
    "collapsed": false
   },
   "outputs": [
    {
     "name": "stdout",
     "output_type": "stream",
     "text": [
      "all stimuli:\n",
      "\n",
      "['drifting_gratings',\n",
      " 'locally_sparse_noise',\n",
      " 'natural_movie_one',\n",
      " 'natural_movie_three',\n",
      " 'natural_movie_two',\n",
      " 'natural_scenes',\n",
      " 'spontaneous',\n",
      " 'static_gratings']\n"
     ]
    }
   ],
   "source": [
    "# Download a list of all stimuli\n",
    "stims = boc.get_all_stimuli()\n",
    "print(\"all stimuli:\\n\")\n",
    "pprint.pprint(stims)"
   ]
  },
  {
   "cell_type": "code",
   "execution_count": 6,
   "metadata": {
    "collapsed": false
   },
   "outputs": [
    {
     "name": "stdout",
     "output_type": "stream",
     "text": [
      "all cre lines: [u'Cux2-CreERT2', u'Rbp4-Cre', u'Rorb-IRES2-Cre', u'Scnn1a-Tg3-Cre']\n"
     ]
    }
   ],
   "source": [
    "# Download a list of all cre driver lines \n",
    "cre_lines = boc.get_all_cre_lines()\n",
    "print(\"all cre lines: \" + str(cre_lines))"
   ]
  },
  {
   "cell_type": "code",
   "execution_count": 7,
   "metadata": {
    "collapsed": false
   },
   "outputs": [
    {
     "name": "stdout",
     "output_type": "stream",
     "text": [
      "Experiment with drifting gratings:\n",
      "[{'age_days': 156.0,\n",
      "  'cre_line': u'Cux2-CreERT2',\n",
      "  'experiment_container_id': 511507650,\n",
      "  'id': 502115959,\n",
      "  'imaging_depth': 175,\n",
      "  'session_type': u'three_session_A',\n",
      "  'targeted_structure': u'VISp'},\n",
      " {'age_days': 124.0,\n",
      "  'cre_line': u'Cux2-CreERT2',\n",
      "  'experiment_container_id': 511510670,\n",
      "  'id': 502205092,\n",
      "  'imaging_depth': 175,\n",
      "  'session_type': u'three_session_A',\n",
      "  'targeted_structure': u'VISp'},\n",
      " {'age_days': 99.0,\n",
      "  'cre_line': u'Cux2-CreERT2',\n",
      "  'experiment_container_id': 511510718,\n",
      "  'id': 510514474,\n",
      "  'imaging_depth': 175,\n",
      "  'session_type': u'three_session_A',\n",
      "  'targeted_structure': u'VISp'},\n",
      " {'age_days': 111.0,\n",
      "  'cre_line': u'Cux2-CreERT2',\n",
      "  'experiment_container_id': 511510884,\n",
      "  'id': 504637623,\n",
      "  'imaging_depth': 175,\n",
      "  'session_type': u'three_session_A',\n",
      "  'targeted_structure': u'VISp'},\n",
      " {'age_days': 144.0,\n",
      "  'cre_line': u'Cux2-CreERT2',\n",
      "  'experiment_container_id': 511509529,\n",
      "  'id': 501271265,\n",
      "  'imaging_depth': 175,\n",
      "  'session_type': u'three_session_A',\n",
      "  'targeted_structure': u'VISp'},\n",
      " {'age_days': 152.0,\n",
      "  'cre_line': u'Cux2-CreERT2',\n",
      "  'experiment_container_id': 511510736,\n",
      "  'id': 501704220,\n",
      "  'imaging_depth': 175,\n",
      "  'session_type': u'three_session_A',\n",
      "  'targeted_structure': u'VISp'},\n",
      " {'age_days': 143.0,\n",
      "  'cre_line': u'Cux2-CreERT2',\n",
      "  'experiment_container_id': 511510650,\n",
      "  'id': 501836392,\n",
      "  'imaging_depth': 175,\n",
      "  'session_type': u'three_session_A',\n",
      "  'targeted_structure': u'VISp'},\n",
      " {'age_days': 113.0,\n",
      "  'cre_line': u'Cux2-CreERT2',\n",
      "  'experiment_container_id': 511510855,\n",
      "  'id': 510517131,\n",
      "  'imaging_depth': 175,\n",
      "  'session_type': u'three_session_A',\n",
      "  'targeted_structure': u'VISp'}]\n"
     ]
    }
   ],
   "source": [
    "import allensdk.brain_observatory.stimulus_info as stim_info\n",
    "\n",
    "# Find the experiment with VISp, Cux2-CreERT2, 175, drifting gratings stimulus\n",
    "crel = 'Cux2-CreERT2';\n",
    "ts = 'VISp';\n",
    "imdepth = 175;\n",
    "\n",
    "exp = boc.get_ophys_experiments(cre_lines=[crel], \n",
    "                                stimuli=[stim_info.DRIFTING_GRATINGS],\n",
    "                                targeted_structures=[ts],\n",
    "                                imaging_depths=[imdepth])\n",
    "print(\"Experiment with drifting gratings:\")\n",
    "pprint.pprint(exp)"
   ]
  },
  {
   "cell_type": "markdown",
   "metadata": {},
   "source": [
    "## get cell data for experiments"
   ]
  },
  {
   "cell_type": "code",
   "execution_count": 8,
   "metadata": {
    "collapsed": true
   },
   "outputs": [],
   "source": [
    "import numpy as np\n",
    "from allensdk.brain_observatory.dff import compute_dff\n",
    "import scipy\n",
    "from scipy import io"
   ]
  },
  {
   "cell_type": "code",
   "execution_count": null,
   "metadata": {
    "collapsed": false
   },
   "outputs": [],
   "source": [
    "dpath = '/Users/Shuting/Documents/Yuste/projects/graph_ensemble/pa/data/'\n",
    "\n",
    "#for m in range(len(exp)):\n",
    "for m in [6,7]:\n",
    "    \n",
    "    # get cell data from the above experiments: first dataset\n",
    "    print(\"Loading file \", m)\n",
    "    data_set = boc.get_ophys_experiment_data(exp[m]['id'])\n",
    "\n",
    "    print(\"Metadata from NWB file:\")\n",
    "    pprint.pprint(data_set.get_metadata())\n",
    "\n",
    "    print(\"stimuli available in this file:\")\n",
    "    print(data_set.list_stimuli())\n",
    "    \n",
    "    # cell ids in experiment\n",
    "    csid = data_set.get_cell_specimen_ids()\n",
    "    for n in range(csid.size):\n",
    "        #print('cell #', n, 'cell ID:', csid[n])\n",
    "        # get trace\n",
    "        time, raw_traces = data_set.get_fluorescence_traces(cell_specimen_ids=[csid[n]])\n",
    "        # neuropil correction\n",
    "        _, corrected_traces = data_set.get_corrected_fluorescence_traces(cell_specimen_ids=[csid[n]])\n",
    "        # compute df/f\n",
    "        dff_traces = compute_dff(np.array(corrected_traces))\n",
    "\n",
    "        # store result\n",
    "        if n==0:\n",
    "            raw = np.zeros([len(data_set.get_cell_specimen_ids()),raw_traces.shape[1]])\n",
    "            corrected = np.zeros([len(data_set.get_cell_specimen_ids()),corrected_traces.shape[1]])\n",
    "            dff = np.zeros([len(data_set.get_cell_specimen_ids()),dff_traces.shape[1]])\n",
    "\n",
    "        raw[n,:] = raw_traces\n",
    "        corrected[n,:] = corrected_traces\n",
    "        dff[n,:] = dff_traces\n",
    "        \n",
    "    # stimulus info\n",
    "    stim_table = data_set.get_stimulus_table('drifting_gratings')\n",
    "    stim_dict = {col_name: stim_table[col_name].values for col_name in stim_table.columns.values}\n",
    "    \n",
    "    # save results to mat format\n",
    "    fname = dpath;\n",
    "    fname += 'ecid_'\n",
    "    fname += str(exp[m]['experiment_container_id'])\n",
    "    result_dict = {'raw':raw, 'corrected':corrected, 'dff':dff, 'stim_info':stim_dict}\n",
    "    \n",
    "    scipy.io.savemat(fname, result_dict, appendmat=True)\n",
    "    "
   ]
  },
  {
   "cell_type": "code",
   "execution_count": null,
   "metadata": {
    "collapsed": false
   },
   "outputs": [],
   "source": [
    "# from matplotlib import pyplot as plt\n",
    "# %matplotlib inline\n",
    "\n",
    "# # visualize result\n",
    "# fig = plt.figure(figsize = [10.0,3.0])\n",
    "# axes1 = fig.add_subplot(1, 3, 1)\n",
    "# axes2 = fig.add_subplot(1, 3, 2)\n",
    "# axes3 = fig.add_subplot(1, 3, 3)\n",
    "\n",
    "# axes1.imshow(raw,aspect='auto')\n",
    "# axes1.set_title('raw')\n",
    "# axes2.imshow(corrected,aspect='auto')\n",
    "# axes2.set_title('neuropil corrected')\n",
    "# axes3.imshow(dff,aspect='auto')\n",
    "# axes3.set_title('dF/F')"
   ]
  },
  {
   "cell_type": "markdown",
   "metadata": {
    "collapsed": false
   },
   "source": [
    "## import ROI mask"
   ]
  },
  {
   "cell_type": "code",
   "execution_count": 39,
   "metadata": {
    "collapsed": false
   },
   "outputs": [
    {
     "name": "stdout",
     "output_type": "stream",
     "text": [
      "('Loading file ', 6)\n"
     ]
    }
   ],
   "source": [
    "import numpy as np\n",
    "\n",
    "dpath = '/Users/Shuting/Documents/Yuste/projects/graph_ensemble/pa/data/'\n",
    "#for m in range(len(exp)):\n",
    "for m in [6]:\n",
    "    \n",
    "    print(\"Loading file \", m)\n",
    "    data_set = boc.get_ophys_experiment_data(exp[m]['id'])\n",
    "    \n",
    "    # get the specimen IDs for a few cells\n",
    "    cids = data_set.get_cell_specimen_ids()#[:15:5]\n",
    "    \n",
    "    # get masks for specific cells\n",
    "    roi_mask_list = data_set.get_roi_mask(cell_specimen_ids=cids)\n",
    "    \n",
    "    # save each roi mask\n",
    "    for i in range(len(cids)):\n",
    "        roi_mask = roi_mask_list[i]\n",
    "        single_roi = roi_mask.get_mask_plane()\n",
    "        if i==0:\n",
    "            roi_all = np.zeros([len(cids),single_roi.shape[0],single_roi.shape[1]])\n",
    "        roi_all[i,:,:] = single_roi\n",
    "    \n",
    "    # save results\n",
    "    fname = dpath;\n",
    "    fname += 'ecid_'\n",
    "    fname += str(exp[m]['experiment_container_id'])\n",
    "    fname += '_roi_mask'\n",
    "    result_dict = {'roi_all':roi_all}\n",
    "    scipy.io.savemat(fname, result_dict, appendmat=True)\n"
   ]
  },
  {
   "cell_type": "code",
   "execution_count": 38,
   "metadata": {
    "collapsed": false,
    "scrolled": true
   },
   "outputs": [
    {
     "data": {
      "text/plain": [
       "511510650"
      ]
     },
     "execution_count": 38,
     "metadata": {},
     "output_type": "execute_result"
    }
   ],
   "source": [
    "exp[6]['experiment_container_id']"
   ]
  },
  {
   "cell_type": "code",
   "execution_count": null,
   "metadata": {
    "collapsed": false
   },
   "outputs": [],
   "source": []
  },
  {
   "cell_type": "code",
   "execution_count": null,
   "metadata": {
    "collapsed": true
   },
   "outputs": [],
   "source": []
  },
  {
   "cell_type": "code",
   "execution_count": null,
   "metadata": {
    "collapsed": true
   },
   "outputs": [],
   "source": []
  }
 ],
 "metadata": {
  "anaconda-cloud": {},
  "kernelspec": {
   "display_name": "Python 2",
   "language": "python",
   "name": "python2"
  },
  "language_info": {
   "codemirror_mode": {
    "name": "ipython",
    "version": 2
   },
   "file_extension": ".py",
   "mimetype": "text/x-python",
   "name": "python",
   "nbconvert_exporter": "python",
   "pygments_lexer": "ipython2",
   "version": "2.7.12"
  }
 },
 "nbformat": 4,
 "nbformat_minor": 0
}
